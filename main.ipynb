{
 "cells": [
  {
   "cell_type": "code",
   "execution_count": 114,
   "metadata": {},
   "outputs": [],
   "source": [
    "import pandas as pd\n",
    "import numpy as np\n",
    "from sklearn.model_selection import train_test_split\n",
    "from sklearn.ensemble import RandomForestClassifier\n",
    "from sklearn.model_selection import GridSearchCV\n",
    "from sklearn import preprocessing\n",
    "import pickle\n",
    "import os\n",
    "from  pdfid_v0_2_8 import pdfid\n",
    "from  pdf_parser_V0_7_8 import pdf_parser\n",
    "from  xml.dom import minidom\n",
    "import xmltodict\n",
    "import json\n",
    "import subprocess\n"
   ]
  },
  {
   "cell_type": "code",
   "execution_count": 115,
   "metadata": {},
   "outputs": [
    {
     "name": "stdout",
     "output_type": "stream",
     "text": [
      "Index(['Fine name', 'pdfsize', 'metadata size', 'pages', 'xref Length',\n",
      "       'title characters', 'isEncrypted', 'embedded files', 'images', 'text',\n",
      "       'header', 'obj', 'endobj', 'stream', 'endstream', 'xref', 'trailer',\n",
      "       'startxref', 'pageno', 'encrypt', 'ObjStm', 'JS', 'Javascript', 'AA',\n",
      "       'OpenAction', 'Acroform', 'JBIG2Decode', 'RichMedia', 'launch',\n",
      "       'EmbeddedFile', 'XFA', 'Colors', 'Class'],\n",
      "      dtype='object')\n"
     ]
    }
   ],
   "source": [
    "#Load dataset as pandas dataframe\n",
    "df = pd.read_csv(\"Dataset/PDFMalware.csv\")\n",
    "#Get column names\n",
    "print(df.columns)\n",
    "#df.info()\n"
   ]
  },
  {
   "cell_type": "code",
   "execution_count": 116,
   "metadata": {},
   "outputs": [
    {
     "name": "stderr",
     "output_type": "stream",
     "text": [
      "C:\\Users\\91743\\AppData\\Local\\Temp\\ipykernel_147404\\358580565.py:13: SettingWithCopyWarning: \n",
      "A value is trying to be set on a copy of a slice from a DataFrame.\n",
      "Try using .loc[row_indexer,col_indexer] = value instead\n",
      "\n",
      "See the caveats in the documentation: https://pandas.pydata.org/pandas-docs/stable/user_guide/indexing.html#returning-a-view-versus-a-copy\n",
      "  df_features[test_feature_name] = label_encoder.transform(df[feature_name])\n",
      "C:\\Users\\91743\\AppData\\Local\\Temp\\ipykernel_147404\\358580565.py:13: SettingWithCopyWarning: \n",
      "A value is trying to be set on a copy of a slice from a DataFrame.\n",
      "Try using .loc[row_indexer,col_indexer] = value instead\n",
      "\n",
      "See the caveats in the documentation: https://pandas.pydata.org/pandas-docs/stable/user_guide/indexing.html#returning-a-view-versus-a-copy\n",
      "  df_features[test_feature_name] = label_encoder.transform(df[feature_name])\n",
      "C:\\Users\\91743\\AppData\\Local\\Temp\\ipykernel_147404\\358580565.py:13: SettingWithCopyWarning: \n",
      "A value is trying to be set on a copy of a slice from a DataFrame.\n",
      "Try using .loc[row_indexer,col_indexer] = value instead\n",
      "\n",
      "See the caveats in the documentation: https://pandas.pydata.org/pandas-docs/stable/user_guide/indexing.html#returning-a-view-versus-a-copy\n",
      "  df_features[test_feature_name] = label_encoder.transform(df[feature_name])\n",
      "C:\\Users\\91743\\AppData\\Local\\Temp\\ipykernel_147404\\358580565.py:13: SettingWithCopyWarning: \n",
      "A value is trying to be set on a copy of a slice from a DataFrame.\n",
      "Try using .loc[row_indexer,col_indexer] = value instead\n",
      "\n",
      "See the caveats in the documentation: https://pandas.pydata.org/pandas-docs/stable/user_guide/indexing.html#returning-a-view-versus-a-copy\n",
      "  df_features[test_feature_name] = label_encoder.transform(df[feature_name])\n",
      "C:\\Users\\91743\\AppData\\Local\\Temp\\ipykernel_147404\\358580565.py:13: SettingWithCopyWarning: \n",
      "A value is trying to be set on a copy of a slice from a DataFrame.\n",
      "Try using .loc[row_indexer,col_indexer] = value instead\n",
      "\n",
      "See the caveats in the documentation: https://pandas.pydata.org/pandas-docs/stable/user_guide/indexing.html#returning-a-view-versus-a-copy\n",
      "  df_features[test_feature_name] = label_encoder.transform(df[feature_name])\n",
      "C:\\Users\\91743\\AppData\\Local\\Temp\\ipykernel_147404\\358580565.py:13: SettingWithCopyWarning: \n",
      "A value is trying to be set on a copy of a slice from a DataFrame.\n",
      "Try using .loc[row_indexer,col_indexer] = value instead\n",
      "\n",
      "See the caveats in the documentation: https://pandas.pydata.org/pandas-docs/stable/user_guide/indexing.html#returning-a-view-versus-a-copy\n",
      "  df_features[test_feature_name] = label_encoder.transform(df[feature_name])\n",
      "C:\\Users\\91743\\AppData\\Local\\Temp\\ipykernel_147404\\358580565.py:13: SettingWithCopyWarning: \n",
      "A value is trying to be set on a copy of a slice from a DataFrame.\n",
      "Try using .loc[row_indexer,col_indexer] = value instead\n",
      "\n",
      "See the caveats in the documentation: https://pandas.pydata.org/pandas-docs/stable/user_guide/indexing.html#returning-a-view-versus-a-copy\n",
      "  df_features[test_feature_name] = label_encoder.transform(df[feature_name])\n",
      "C:\\Users\\91743\\AppData\\Local\\Temp\\ipykernel_147404\\358580565.py:13: SettingWithCopyWarning: \n",
      "A value is trying to be set on a copy of a slice from a DataFrame.\n",
      "Try using .loc[row_indexer,col_indexer] = value instead\n",
      "\n",
      "See the caveats in the documentation: https://pandas.pydata.org/pandas-docs/stable/user_guide/indexing.html#returning-a-view-versus-a-copy\n",
      "  df_features[test_feature_name] = label_encoder.transform(df[feature_name])\n",
      "C:\\Users\\91743\\AppData\\Local\\Temp\\ipykernel_147404\\358580565.py:13: SettingWithCopyWarning: \n",
      "A value is trying to be set on a copy of a slice from a DataFrame.\n",
      "Try using .loc[row_indexer,col_indexer] = value instead\n",
      "\n",
      "See the caveats in the documentation: https://pandas.pydata.org/pandas-docs/stable/user_guide/indexing.html#returning-a-view-versus-a-copy\n",
      "  df_features[test_feature_name] = label_encoder.transform(df[feature_name])\n",
      "C:\\Users\\91743\\AppData\\Local\\Temp\\ipykernel_147404\\358580565.py:13: SettingWithCopyWarning: \n",
      "A value is trying to be set on a copy of a slice from a DataFrame.\n",
      "Try using .loc[row_indexer,col_indexer] = value instead\n",
      "\n",
      "See the caveats in the documentation: https://pandas.pydata.org/pandas-docs/stable/user_guide/indexing.html#returning-a-view-versus-a-copy\n",
      "  df_features[test_feature_name] = label_encoder.transform(df[feature_name])\n",
      "C:\\Users\\91743\\AppData\\Local\\Temp\\ipykernel_147404\\358580565.py:13: SettingWithCopyWarning: \n",
      "A value is trying to be set on a copy of a slice from a DataFrame.\n",
      "Try using .loc[row_indexer,col_indexer] = value instead\n",
      "\n",
      "See the caveats in the documentation: https://pandas.pydata.org/pandas-docs/stable/user_guide/indexing.html#returning-a-view-versus-a-copy\n",
      "  df_features[test_feature_name] = label_encoder.transform(df[feature_name])\n",
      "C:\\Users\\91743\\AppData\\Local\\Temp\\ipykernel_147404\\358580565.py:13: SettingWithCopyWarning: \n",
      "A value is trying to be set on a copy of a slice from a DataFrame.\n",
      "Try using .loc[row_indexer,col_indexer] = value instead\n",
      "\n",
      "See the caveats in the documentation: https://pandas.pydata.org/pandas-docs/stable/user_guide/indexing.html#returning-a-view-versus-a-copy\n",
      "  df_features[test_feature_name] = label_encoder.transform(df[feature_name])\n",
      "C:\\Users\\91743\\AppData\\Local\\Temp\\ipykernel_147404\\358580565.py:13: SettingWithCopyWarning: \n",
      "A value is trying to be set on a copy of a slice from a DataFrame.\n",
      "Try using .loc[row_indexer,col_indexer] = value instead\n",
      "\n",
      "See the caveats in the documentation: https://pandas.pydata.org/pandas-docs/stable/user_guide/indexing.html#returning-a-view-versus-a-copy\n",
      "  df_features[test_feature_name] = label_encoder.transform(df[feature_name])\n",
      "C:\\Users\\91743\\AppData\\Local\\Temp\\ipykernel_147404\\358580565.py:13: SettingWithCopyWarning: \n",
      "A value is trying to be set on a copy of a slice from a DataFrame.\n",
      "Try using .loc[row_indexer,col_indexer] = value instead\n",
      "\n",
      "See the caveats in the documentation: https://pandas.pydata.org/pandas-docs/stable/user_guide/indexing.html#returning-a-view-versus-a-copy\n",
      "  df_features[test_feature_name] = label_encoder.transform(df[feature_name])\n"
     ]
    }
   ],
   "source": [
    "\n",
    "df_features = df[[\"encrypt\",\"xref\",\"obj\",\"ObjStm\",\"startxref\",\"JBIG2Decode\",\"Acroform\",\"stream\",\"Javascript\",\"JS\",\"OpenAction\",\"RichMedia\",\"launch\",\"EmbeddedFile\",\"XFA\",\"AA\"]]\n",
    "label_encoder = preprocessing.LabelEncoder() \n",
    "\n",
    "\n",
    "feature_list = [\"xref\",\"obj\",\"ObjStm\",\"startxref\",\"JBIG2Decode\",\"Acroform\",\"Javascript\",\"JS\",\"OpenAction\",\"RichMedia\",\"launch\",\"EmbeddedFile\",\"XFA\",\"AA\"]\n",
    "\n",
    "encoder_list = []\n",
    "for feature_name in feature_list:\n",
    "    test_feature_name = feature_name + \"_coded\"\n",
    "    encoder = label_encoder.fit(df[feature_name]) \n",
    "    with open(\"Models/\" + test_feature_name,'wb') as f:\n",
    "        pickle.dump(encoder,f)\n",
    "    df_features[test_feature_name] = label_encoder.transform(df[feature_name]) \n",
    "\n",
    "df_features_trans = df_features[['encrypt','stream','obj_coded','ObjStm_coded','startxref_coded','JBIG2Decode_coded',\"Acroform_coded\",'Javascript_coded', 'JS_coded','OpenAction_coded','RichMedia_coded','launch_coded','EmbeddedFile_coded','XFA_coded','AA_coded']]\n",
    "#df_features_trans.info()\n"
   ]
  },
  {
   "cell_type": "code",
   "execution_count": 117,
   "metadata": {},
   "outputs": [
    {
     "data": {
      "text/plain": [
       " 1    5557\n",
       " 0    4468\n",
       "-1       1\n",
       "dtype: int64"
      ]
     },
     "execution_count": 117,
     "metadata": {},
     "output_type": "execute_result"
    }
   ],
   "source": [
    "df_result = df[\"Class\"]\n",
    "s = pd.Series(df_result, dtype=\"category\")\n",
    "df_result_trans = s.cat.codes\n",
    "df_result_trans.value_counts()\n"
   ]
  },
  {
   "cell_type": "code",
   "execution_count": 118,
   "metadata": {},
   "outputs": [
    {
     "name": "stdout",
     "output_type": "stream",
     "text": [
      "feature_train : (8020, 15)\n",
      "feature_test : (2006, 15)\n",
      "result_train : (8020,)\n",
      "result_test : (2006,)\n"
     ]
    }
   ],
   "source": [
    "feature_train, feature_test, result_train, result_test = train_test_split(df_features_trans, df_result_trans, test_size=0.20, random_state=101)\n",
    "print(f'feature_train : {feature_train.shape}')\n",
    "print(f'feature_test : {feature_test.shape}')\n",
    "print(f'result_train : {result_train.shape}')\n",
    "print(f'result_test : {result_test.shape}')"
   ]
  },
  {
   "cell_type": "code",
   "execution_count": 119,
   "metadata": {},
   "outputs": [
    {
     "name": "stdout",
     "output_type": "stream",
     "text": [
      "{'n_estimators': [10, 31, 52, 73, 94, 115, 136, 157, 178, 200], 'max_features': ['log2', 'sqrt', None], 'max_depth': [5, 8, 11, 14], 'min_samples_split': [2, 3, 4, 5], 'min_samples_leaf': [1, 2], 'bootstrap': [False]}\n"
     ]
    }
   ],
   "source": [
    "# Number of trees in random forest\n",
    "n_estimators = [int(x) for x in np.linspace(start = 10, stop = 200, num = 10)]\n",
    "# Number of features to consider at every split\n",
    "max_features = ['log2', 'sqrt', None]\n",
    "# Maximum number of levels in tree\n",
    "max_depth = [5,8,11,14]\n",
    "# Minimum number of samples required to split a node\n",
    "min_samples_split = [2,3,4,5]\n",
    "# Minimum number of samples required at each leaf node\n",
    "min_samples_leaf = [1, 2]\n",
    "# Method of selecting samples for training each tree\n",
    "bootstrap = [False]\n",
    "\n",
    "param_grid = {'n_estimators': n_estimators,\n",
    "               'max_features': max_features,\n",
    "               'max_depth': max_depth,\n",
    "               'min_samples_split': min_samples_split,\n",
    "               'min_samples_leaf': min_samples_leaf,\n",
    "               'bootstrap': bootstrap}\n",
    "print(param_grid)"
   ]
  },
  {
   "cell_type": "code",
   "execution_count": 120,
   "metadata": {},
   "outputs": [
    {
     "name": "stderr",
     "output_type": "stream",
     "text": [
      "C:\\Users\\91743\\AppData\\Local\\Packages\\PythonSoftwareFoundation.Python.3.10_qbz5n2kfra8p0\\LocalCache\\local-packages\\Python310\\site-packages\\sklearn\\model_selection\\_split.py:737: UserWarning: The least populated class in y has only 1 members, which is less than n_splits=3.\n",
      "  warnings.warn(\n"
     ]
    },
    {
     "name": "stdout",
     "output_type": "stream",
     "text": [
      "Fitting 3 folds for each of 960 candidates, totalling 2880 fits\n"
     ]
    }
   ],
   "source": [
    "rfc_Model = RandomForestClassifier()\n",
    "rfc_Grid = GridSearchCV(estimator = rfc_Model, param_grid = param_grid, cv = 3, verbose=2, n_jobs = 4)\n",
    "rfc_Grid.fit(feature_train , result_train )\n",
    "rfc_Grid.best_params_\n"
   ]
  },
  {
   "cell_type": "code",
   "execution_count": null,
   "metadata": {},
   "outputs": [
    {
     "data": {
      "text/plain": [
       "0.9861596009975062"
      ]
     },
     "execution_count": 51,
     "metadata": {},
     "output_type": "execute_result"
    }
   ],
   "source": [
    "rfc_Grid.score(feature_train,result_train)"
   ]
  },
  {
   "cell_type": "code",
   "execution_count": null,
   "metadata": {},
   "outputs": [
    {
     "data": {
      "text/plain": [
       "0.9765702891326022"
      ]
     },
     "execution_count": 52,
     "metadata": {},
     "output_type": "execute_result"
    }
   ],
   "source": [
    "rfc_Grid.score(feature_test,result_test)"
   ]
  },
  {
   "cell_type": "code",
   "execution_count": null,
   "metadata": {},
   "outputs": [],
   "source": [
    "\n",
    "\n",
    "classifier= RandomForestClassifier(bootstrap= rfc_Grid.best_params_[\"bootstrap\"],\n",
    " max_depth= rfc_Grid.best_params_[\"max_depth\"],\n",
    " max_features= rfc_Grid.best_params_[\"max_features\"],\n",
    " min_samples_leaf= rfc_Grid.best_params_[\"min_samples_leaf\"],\n",
    " min_samples_split= rfc_Grid.best_params_[\"min_samples_split\"],\n",
    " n_estimators= rfc_Grid.best_params_[\"n_estimators\"])  \n",
    "pdf_checker_RT = classifier.fit(feature_train,result_train)  \n"
   ]
  },
  {
   "cell_type": "code",
   "execution_count": null,
   "metadata": {},
   "outputs": [],
   "source": [
    "with open(\"Models/pdf_checker_RT\",'wb') as f:\n",
    "    pickle.dump(pdf_checker_RT,f)"
   ]
  },
  {
   "cell_type": "code",
   "execution_count": null,
   "metadata": {},
   "outputs": [
    {
     "name": "stdout",
     "output_type": "stream",
     "text": [
      "['']\n",
      "0\n",
      "{'obj': [7], 'endobj': [7], 'stream': [2], 'endstream': [2], 'xref': [1], 'trailer': [1], 'startxref': [1], 'Page': [1], 'Encrypt': [0], 'ObjStm': [0], 'JS': [0], 'JavaScript': [0], 'AA': [0], 'OpenAction': [0], 'AcroForm': [0], 'JBIG2Decode': [0], 'RichMedia': [0], 'Launch': [0], 'EmbeddedFile': [0], 'XFA': [0], 'Colors > 2^24': [0]}\n"
     ]
    },
    {
     "name": "stderr",
     "output_type": "stream",
     "text": [
      "C:\\Users\\91743\\AppData\\Local\\Temp\\ipykernel_147404\\632431768.py:41: SettingWithCopyWarning: \n",
      "A value is trying to be set on a copy of a slice from a DataFrame\n",
      "\n",
      "See the caveats in the documentation: https://pandas.pydata.org/pandas-docs/stable/user_guide/indexing.html#returning-a-view-versus-a-copy\n",
      "  df_filter.rename(columns = {'Encrypt':'encrypt','JavaScript':'Javascript','AcroForm':'Acroform','Launch':'launch'}, inplace = True)\n",
      "C:\\Users\\91743\\AppData\\Local\\Temp\\ipykernel_147404\\632431768.py:52: SettingWithCopyWarning: \n",
      "A value is trying to be set on a copy of a slice from a DataFrame.\n",
      "Try using .loc[row_indexer,col_indexer] = value instead\n",
      "\n",
      "See the caveats in the documentation: https://pandas.pydata.org/pandas-docs/stable/user_guide/indexing.html#returning-a-view-versus-a-copy\n",
      "  df_filter[test_feature_name] = model.transform( [str(df_filter[feature_name][0])] )\n",
      "C:\\Users\\91743\\AppData\\Local\\Temp\\ipykernel_147404\\632431768.py:52: SettingWithCopyWarning: \n",
      "A value is trying to be set on a copy of a slice from a DataFrame.\n",
      "Try using .loc[row_indexer,col_indexer] = value instead\n",
      "\n",
      "See the caveats in the documentation: https://pandas.pydata.org/pandas-docs/stable/user_guide/indexing.html#returning-a-view-versus-a-copy\n",
      "  df_filter[test_feature_name] = model.transform( [str(df_filter[feature_name][0])] )\n",
      "C:\\Users\\91743\\AppData\\Local\\Temp\\ipykernel_147404\\632431768.py:52: SettingWithCopyWarning: \n",
      "A value is trying to be set on a copy of a slice from a DataFrame.\n",
      "Try using .loc[row_indexer,col_indexer] = value instead\n",
      "\n",
      "See the caveats in the documentation: https://pandas.pydata.org/pandas-docs/stable/user_guide/indexing.html#returning-a-view-versus-a-copy\n",
      "  df_filter[test_feature_name] = model.transform( [str(df_filter[feature_name][0])] )\n",
      "C:\\Users\\91743\\AppData\\Local\\Temp\\ipykernel_147404\\632431768.py:52: SettingWithCopyWarning: \n",
      "A value is trying to be set on a copy of a slice from a DataFrame.\n",
      "Try using .loc[row_indexer,col_indexer] = value instead\n",
      "\n",
      "See the caveats in the documentation: https://pandas.pydata.org/pandas-docs/stable/user_guide/indexing.html#returning-a-view-versus-a-copy\n",
      "  df_filter[test_feature_name] = model.transform( [str(df_filter[feature_name][0])] )\n",
      "C:\\Users\\91743\\AppData\\Local\\Temp\\ipykernel_147404\\632431768.py:52: SettingWithCopyWarning: \n",
      "A value is trying to be set on a copy of a slice from a DataFrame.\n",
      "Try using .loc[row_indexer,col_indexer] = value instead\n",
      "\n",
      "See the caveats in the documentation: https://pandas.pydata.org/pandas-docs/stable/user_guide/indexing.html#returning-a-view-versus-a-copy\n",
      "  df_filter[test_feature_name] = model.transform( [str(df_filter[feature_name][0])] )\n"
     ]
    }
   ],
   "source": [
    "\n",
    "\n",
    "pdf_file = \"Class10.pdf\"\n",
    "result = pdfid.PDFiD(pdf_file)\n",
    "data_dict = pdfid.PDFiD2JSON(result,True)\n",
    "json_dict = json.loads(data_dict)\n",
    "\n",
    "command = f'python ./pdf_parser_V0_7_8/pdf_parser.py -k /URI -O ./{pdf_file}'\n",
    "\n",
    "p = subprocess.check_output(command, stderr=subprocess.PIPE, shell=True)\n",
    "\n",
    "uri_list = p.decode().split(\"\\n\")\n",
    "print(uri_list)\n",
    "if(uri_list[0] == ''):\n",
    "    uri_number = 0\n",
    "else:\n",
    "    uri_number = len(uri_list)\n",
    "print(uri_number)   \n",
    "\n",
    "\n",
    "\n",
    "\n",
    "data_list = json_dict[0][\"pdfid\"][\"keywords\"][\"keyword\"]\n",
    "data_dict_master = {}\n",
    "for data in data_list:\n",
    "    data_dict = {data[\"name\"].replace(\"/\",\"\"):[data[\"count\"]]}\n",
    "    data_dict_master = data_dict_master | data_dict\n",
    "print(data_dict_master)\n",
    "\n",
    "df = pd.DataFrame.from_dict(data_dict_master)\n",
    "\n",
    "df_input = df[[\"Encrypt\",\"stream\",\"obj\",\"ObjStm\",\"startxref\",\"JBIG2Decode\",\"AcroForm\",\"JavaScript\",\"JS\",\"OpenAction\",\"RichMedia\",\"Launch\",\"EmbeddedFile\",\"XFA\",\"AA\"]]\n",
    "\n",
    "df_input.rename(columns = {'Encrypt':'encrypt','JavaScript':'Javascript','AcroForm':'Acroform','Launch':'launch'}, inplace = True)\n",
    "\n",
    "feature_list = [\"xref\",\"obj\",\"ObjStm\",\"startxref\",\"JBIG2Decode\",\"Acroform\",\"Javascript\",\"JS\",\"OpenAction\",\"RichMedia\",\"launch\",\"EmbeddedFile\",\"XFA\",\"AA\"]\n",
    "\n",
    "\n",
    "for feature_name in feature_list:\n",
    "    test_feature_name = feature_name + \"_coded\"\n",
    "   \n",
    "    with open(\"Models/\" + test_feature_name,'rb') as f:\n",
    "        model = pickle.load(f)\n",
    "    try:\n",
    "        df_input[test_feature_name] = model.transform( [str(df_input[feature_name][0])] )\n",
    "    except Exception as e:\n",
    "        list(model.classes_)\n",
    "        #print(e)\n",
    "        continue\n",
    "\n",
    "df_input_predict = df_input[['encrypt','stream','obj_coded','ObjStm_coded','startxref_coded','JBIG2Decode_coded','Acroform_coded','Javascript_coded', 'JS_coded','OpenAction_coded','RichMedia_coded','launch_coded','EmbeddedFile_coded','XFA_coded','AA_coded']]"
   ]
  },
  {
   "cell_type": "code",
   "execution_count": null,
   "metadata": {},
   "outputs": [
    {
     "name": "stdout",
     "output_type": "stream",
     "text": [
      "[0]\n"
     ]
    }
   ],
   "source": [
    "with open(\"Models/pdf_checker_RT\",'rb') as f:\n",
    "    model = pickle.load(f)\n",
    "result = model.predict(df_input_predict)\n",
    "print(result)"
   ]
  }
 ],
 "metadata": {
  "kernelspec": {
   "display_name": "Python 3",
   "language": "python",
   "name": "python3"
  },
  "language_info": {
   "codemirror_mode": {
    "name": "ipython",
    "version": 3
   },
   "file_extension": ".py",
   "mimetype": "text/x-python",
   "name": "python",
   "nbconvert_exporter": "python",
   "pygments_lexer": "ipython3",
   "version": "3.10.11"
  }
 },
 "nbformat": 4,
 "nbformat_minor": 2
}

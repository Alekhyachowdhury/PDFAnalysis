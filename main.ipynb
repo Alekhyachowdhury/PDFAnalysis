{
 "cells": [
  {
   "cell_type": "code",
   "execution_count": 70,
   "metadata": {},
   "outputs": [],
   "source": [
    "import pandas as pd\n",
    "import numpy as np\n",
    "from sklearn.model_selection import train_test_split\n",
    "from sklearn.ensemble import RandomForestClassifier\n",
    "from sklearn.model_selection import GridSearchCV\n",
    "from sklearn import preprocessing\n",
    "import pickle\n",
    "import os\n",
    "from  pdfid_v0_2_8 import pdfid\n",
    "from  pdf_parser_V0_7_8 import pdf_parser\n",
    "from  xml.dom import minidom\n",
    "import xmltodict\n",
    "import json\n",
    "import subprocess\n"
   ]
  },
  {
   "cell_type": "code",
   "execution_count": 71,
   "metadata": {},
   "outputs": [
    {
     "name": "stdout",
     "output_type": "stream",
     "text": [
      "Index(['Fine name', 'pdfsize', 'metadata size', 'pages', 'xref Length',\n",
      "       'title characters', 'isEncrypted', 'embedded files', 'images', 'text',\n",
      "       'header', 'obj', 'endobj', 'stream', 'endstream', 'xref', 'trailer',\n",
      "       'startxref', 'pageno', 'encrypt', 'ObjStm', 'JS', 'Javascript', 'AA',\n",
      "       'OpenAction', 'Acroform', 'JBIG2Decode', 'RichMedia', 'launch',\n",
      "       'EmbeddedFile', 'XFA', 'Colors', 'Class'],\n",
      "      dtype='object')\n"
     ]
    }
   ],
   "source": [
    "#Load dataset as pandas dataframe and remove any rows containing null values\n",
    "df = pd.read_csv(\"Dataset/PDFMalware.csv\")\n",
    "df.dropna(how = 'any' , inplace = True)\n",
    "\n",
    "#Get column names\n",
    "print(df.columns)"
   ]
  },
  {
   "cell_type": "code",
   "execution_count": 72,
   "metadata": {},
   "outputs": [
    {
     "name": "stdout",
     "output_type": "stream",
     "text": [
      "<class 'pandas.core.frame.DataFrame'>\n",
      "Int64Index: 10023 entries, 0 to 10025\n",
      "Data columns (total 15 columns):\n",
      " #   Column        Non-Null Count  Dtype  \n",
      "---  ------        --------------  -----  \n",
      " 0   encrypt       10023 non-null  float64\n",
      " 1   obj           10023 non-null  object \n",
      " 2   ObjStm        10023 non-null  float64\n",
      " 3   startxref     10023 non-null  object \n",
      " 4   JBIG2Decode   10023 non-null  object \n",
      " 5   Acroform      10023 non-null  object \n",
      " 6   stream        10023 non-null  float64\n",
      " 7   Javascript    10023 non-null  object \n",
      " 8   JS            10023 non-null  object \n",
      " 9   OpenAction    10023 non-null  object \n",
      " 10  RichMedia     10023 non-null  object \n",
      " 11  launch        10023 non-null  object \n",
      " 12  EmbeddedFile  10023 non-null  object \n",
      " 13  XFA           10023 non-null  object \n",
      " 14  AA            10023 non-null  object \n",
      "dtypes: float64(3), object(12)\n",
      "memory usage: 1.2+ MB\n"
     ]
    }
   ],
   "source": [
    "#Extract required features\n",
    "df_features = df[[\"encrypt\",\"obj\",\"ObjStm\",\"startxref\",\"JBIG2Decode\",\"Acroform\",\"stream\",\"Javascript\",\"JS\",\"OpenAction\",\"RichMedia\",\"launch\",\"EmbeddedFile\",\"XFA\",\"AA\"]]\n",
    "df_features.info()"
   ]
  },
  {
   "cell_type": "code",
   "execution_count": 73,
   "metadata": {},
   "outputs": [
    {
     "name": "stdout",
     "output_type": "stream",
     "text": [
      "<class 'pandas.core.frame.DataFrame'>\n",
      "Int64Index: 10023 entries, 0 to 10025\n",
      "Data columns (total 15 columns):\n",
      " #   Column              Non-Null Count  Dtype  \n",
      "---  ------              --------------  -----  \n",
      " 0   encrypt             10023 non-null  float64\n",
      " 1   stream              10023 non-null  float64\n",
      " 2   obj_coded           10023 non-null  int32  \n",
      " 3   ObjStm              10023 non-null  float64\n",
      " 4   startxref_coded     10023 non-null  int32  \n",
      " 5   JBIG2Decode_coded   10023 non-null  int32  \n",
      " 6   Acroform_coded      10023 non-null  int32  \n",
      " 7   Javascript_coded    10023 non-null  int32  \n",
      " 8   JS_coded            10023 non-null  int32  \n",
      " 9   OpenAction_coded    10023 non-null  int32  \n",
      " 10  RichMedia_coded     10023 non-null  int32  \n",
      " 11  launch_coded        10023 non-null  int32  \n",
      " 12  EmbeddedFile_coded  10023 non-null  int32  \n",
      " 13  XFA_coded           10023 non-null  int32  \n",
      " 14  AA_coded            10023 non-null  int32  \n",
      "dtypes: float64(3), int32(12)\n",
      "memory usage: 783.0 KB\n"
     ]
    },
    {
     "name": "stderr",
     "output_type": "stream",
     "text": [
      "C:\\Users\\91743\\AppData\\Local\\Temp\\ipykernel_223516\\1647981472.py:15: SettingWithCopyWarning: \n",
      "A value is trying to be set on a copy of a slice from a DataFrame.\n",
      "Try using .loc[row_indexer,col_indexer] = value instead\n",
      "\n",
      "See the caveats in the documentation: https://pandas.pydata.org/pandas-docs/stable/user_guide/indexing.html#returning-a-view-versus-a-copy\n",
      "  df_features[test_feature_name] = label_encoder.transform(df[feature_name])\n",
      "C:\\Users\\91743\\AppData\\Local\\Temp\\ipykernel_223516\\1647981472.py:15: SettingWithCopyWarning: \n",
      "A value is trying to be set on a copy of a slice from a DataFrame.\n",
      "Try using .loc[row_indexer,col_indexer] = value instead\n",
      "\n",
      "See the caveats in the documentation: https://pandas.pydata.org/pandas-docs/stable/user_guide/indexing.html#returning-a-view-versus-a-copy\n",
      "  df_features[test_feature_name] = label_encoder.transform(df[feature_name])\n",
      "C:\\Users\\91743\\AppData\\Local\\Temp\\ipykernel_223516\\1647981472.py:15: SettingWithCopyWarning: \n",
      "A value is trying to be set on a copy of a slice from a DataFrame.\n",
      "Try using .loc[row_indexer,col_indexer] = value instead\n",
      "\n",
      "See the caveats in the documentation: https://pandas.pydata.org/pandas-docs/stable/user_guide/indexing.html#returning-a-view-versus-a-copy\n",
      "  df_features[test_feature_name] = label_encoder.transform(df[feature_name])\n",
      "C:\\Users\\91743\\AppData\\Local\\Temp\\ipykernel_223516\\1647981472.py:15: SettingWithCopyWarning: \n",
      "A value is trying to be set on a copy of a slice from a DataFrame.\n",
      "Try using .loc[row_indexer,col_indexer] = value instead\n",
      "\n",
      "See the caveats in the documentation: https://pandas.pydata.org/pandas-docs/stable/user_guide/indexing.html#returning-a-view-versus-a-copy\n",
      "  df_features[test_feature_name] = label_encoder.transform(df[feature_name])\n",
      "C:\\Users\\91743\\AppData\\Local\\Temp\\ipykernel_223516\\1647981472.py:15: SettingWithCopyWarning: \n",
      "A value is trying to be set on a copy of a slice from a DataFrame.\n",
      "Try using .loc[row_indexer,col_indexer] = value instead\n",
      "\n",
      "See the caveats in the documentation: https://pandas.pydata.org/pandas-docs/stable/user_guide/indexing.html#returning-a-view-versus-a-copy\n",
      "  df_features[test_feature_name] = label_encoder.transform(df[feature_name])\n",
      "C:\\Users\\91743\\AppData\\Local\\Temp\\ipykernel_223516\\1647981472.py:15: SettingWithCopyWarning: \n",
      "A value is trying to be set on a copy of a slice from a DataFrame.\n",
      "Try using .loc[row_indexer,col_indexer] = value instead\n",
      "\n",
      "See the caveats in the documentation: https://pandas.pydata.org/pandas-docs/stable/user_guide/indexing.html#returning-a-view-versus-a-copy\n",
      "  df_features[test_feature_name] = label_encoder.transform(df[feature_name])\n",
      "C:\\Users\\91743\\AppData\\Local\\Temp\\ipykernel_223516\\1647981472.py:15: SettingWithCopyWarning: \n",
      "A value is trying to be set on a copy of a slice from a DataFrame.\n",
      "Try using .loc[row_indexer,col_indexer] = value instead\n",
      "\n",
      "See the caveats in the documentation: https://pandas.pydata.org/pandas-docs/stable/user_guide/indexing.html#returning-a-view-versus-a-copy\n",
      "  df_features[test_feature_name] = label_encoder.transform(df[feature_name])\n",
      "C:\\Users\\91743\\AppData\\Local\\Temp\\ipykernel_223516\\1647981472.py:15: SettingWithCopyWarning: \n",
      "A value is trying to be set on a copy of a slice from a DataFrame.\n",
      "Try using .loc[row_indexer,col_indexer] = value instead\n",
      "\n",
      "See the caveats in the documentation: https://pandas.pydata.org/pandas-docs/stable/user_guide/indexing.html#returning-a-view-versus-a-copy\n",
      "  df_features[test_feature_name] = label_encoder.transform(df[feature_name])\n",
      "C:\\Users\\91743\\AppData\\Local\\Temp\\ipykernel_223516\\1647981472.py:15: SettingWithCopyWarning: \n",
      "A value is trying to be set on a copy of a slice from a DataFrame.\n",
      "Try using .loc[row_indexer,col_indexer] = value instead\n",
      "\n",
      "See the caveats in the documentation: https://pandas.pydata.org/pandas-docs/stable/user_guide/indexing.html#returning-a-view-versus-a-copy\n",
      "  df_features[test_feature_name] = label_encoder.transform(df[feature_name])\n",
      "C:\\Users\\91743\\AppData\\Local\\Temp\\ipykernel_223516\\1647981472.py:15: SettingWithCopyWarning: \n",
      "A value is trying to be set on a copy of a slice from a DataFrame.\n",
      "Try using .loc[row_indexer,col_indexer] = value instead\n",
      "\n",
      "See the caveats in the documentation: https://pandas.pydata.org/pandas-docs/stable/user_guide/indexing.html#returning-a-view-versus-a-copy\n",
      "  df_features[test_feature_name] = label_encoder.transform(df[feature_name])\n",
      "C:\\Users\\91743\\AppData\\Local\\Temp\\ipykernel_223516\\1647981472.py:15: SettingWithCopyWarning: \n",
      "A value is trying to be set on a copy of a slice from a DataFrame.\n",
      "Try using .loc[row_indexer,col_indexer] = value instead\n",
      "\n",
      "See the caveats in the documentation: https://pandas.pydata.org/pandas-docs/stable/user_guide/indexing.html#returning-a-view-versus-a-copy\n",
      "  df_features[test_feature_name] = label_encoder.transform(df[feature_name])\n",
      "C:\\Users\\91743\\AppData\\Local\\Temp\\ipykernel_223516\\1647981472.py:15: SettingWithCopyWarning: \n",
      "A value is trying to be set on a copy of a slice from a DataFrame.\n",
      "Try using .loc[row_indexer,col_indexer] = value instead\n",
      "\n",
      "See the caveats in the documentation: https://pandas.pydata.org/pandas-docs/stable/user_guide/indexing.html#returning-a-view-versus-a-copy\n",
      "  df_features[test_feature_name] = label_encoder.transform(df[feature_name])\n"
     ]
    }
   ],
   "source": [
    "\n",
    "#Use label encoding to encode object column to int as this is required for training the model\n",
    "label_encoder = preprocessing.LabelEncoder() \n",
    "\n",
    "#features which need to be encoded\n",
    "feature_list = [\"obj\",\"startxref\",\"JBIG2Decode\",\"Acroform\",\"Javascript\",\"JS\",\"OpenAction\",\"RichMedia\",\"launch\",\"EmbeddedFile\",\"XFA\",\"AA\"]\n",
    "\n",
    "#loop over features , encode them to int and store encoder models for future use\n",
    "#Encoded values are stored in a new field (field_coded)\n",
    "encoder_list = []\n",
    "for feature_name in feature_list:\n",
    "    test_feature_name = feature_name + \"_coded\"\n",
    "    encoder = label_encoder.fit(df[feature_name]) \n",
    "    with open(\"Models/\" + test_feature_name,'wb') as f:\n",
    "        pickle.dump(encoder,f)\n",
    "    df_features[test_feature_name] = label_encoder.transform(df[feature_name]) \n",
    "\n",
    "#Remove original un-encoded feature\n",
    "df_features_transformed = df_features[['encrypt','stream','obj_coded',\"ObjStm\",'startxref_coded','JBIG2Decode_coded',\"Acroform_coded\",'Javascript_coded', \n",
    "                                 'JS_coded','OpenAction_coded','RichMedia_coded','launch_coded','EmbeddedFile_coded','XFA_coded','AA_coded']]\n",
    "\n",
    "\n",
    "df_features_transformed.info()"
   ]
  },
  {
   "cell_type": "code",
   "execution_count": 74,
   "metadata": {},
   "outputs": [
    {
     "name": "stdout",
     "output_type": "stream",
     "text": [
      "<class 'pandas.core.frame.DataFrame'>\n",
      "Int64Index: 10023 entries, 0 to 10025\n",
      "Data columns (total 15 columns):\n",
      " #   Column              Non-Null Count  Dtype  \n",
      "---  ------              --------------  -----  \n",
      " 0   encrypt             10023 non-null  float64\n",
      " 1   stream              10023 non-null  float64\n",
      " 2   obj_coded           10023 non-null  int32  \n",
      " 3   ObjStm              10023 non-null  float64\n",
      " 4   startxref_coded     10023 non-null  int32  \n",
      " 5   JBIG2Decode_coded   10023 non-null  int32  \n",
      " 6   Acroform_coded      10023 non-null  int32  \n",
      " 7   Javascript_coded    10023 non-null  int32  \n",
      " 8   JS_coded            10023 non-null  int32  \n",
      " 9   OpenAction_coded    10023 non-null  int32  \n",
      " 10  RichMedia_coded     10023 non-null  int32  \n",
      " 11  launch_coded        10023 non-null  int32  \n",
      " 12  EmbeddedFile_coded  10023 non-null  int32  \n",
      " 13  XFA_coded           10023 non-null  int32  \n",
      " 14  AA_coded            10023 non-null  int32  \n",
      "dtypes: float64(3), int32(12)\n",
      "memory usage: 783.0 KB\n"
     ]
    }
   ],
   "source": [
    "\n",
    "df_features_transformed.info()"
   ]
  },
  {
   "cell_type": "code",
   "execution_count": 75,
   "metadata": {},
   "outputs": [
    {
     "data": {
      "text/plain": [
       "Malicious    5555\n",
       "Benign       4468\n",
       "Name: Class, dtype: int64"
      ]
     },
     "execution_count": 75,
     "metadata": {},
     "output_type": "execute_result"
    }
   ],
   "source": [
    "#Extract target column for source dataset\n",
    "df_result = df[\"Class\"]\n",
    "\n",
    "#Convert target column value to int\n",
    "target_series = pd.Series(df_result, dtype=\"category\")\n",
    "df_result_transformed = target_series.cat.codes\n",
    "\n",
    "df_result.value_counts()\n"
   ]
  },
  {
   "cell_type": "code",
   "execution_count": 76,
   "metadata": {},
   "outputs": [
    {
     "name": "stdout",
     "output_type": "stream",
     "text": [
      "feature_train : (8018, 15)\n",
      "feature_test : (2005, 15)\n",
      "result_train : (8018,)\n",
      "result_test : (2005,)\n"
     ]
    }
   ],
   "source": [
    "#split data in to 80% training data and 20 % test data\n",
    "feature_train, feature_test, result_train, result_test = train_test_split(df_features_transformed, df_result_transformed, test_size=0.20, random_state=42)\n",
    "print(f'feature_train : {feature_train.shape}')\n",
    "print(f'feature_test : {feature_test.shape}')\n",
    "print(f'result_train : {result_train.shape}')\n",
    "print(f'result_test : {result_test.shape}')"
   ]
  },
  {
   "cell_type": "code",
   "execution_count": 77,
   "metadata": {},
   "outputs": [
    {
     "name": "stdout",
     "output_type": "stream",
     "text": [
      "{'n_estimators': [10, 31, 52, 73, 94, 115, 136, 157, 178, 200], 'max_features': ['log2', 'sqrt', None], 'max_depth': [5, 8, 11, 14], 'min_samples_split': [2, 3, 4, 5], 'min_samples_leaf': [1, 2], 'bootstrap': [False]}\n"
     ]
    }
   ],
   "source": [
    "#Generate Hyperparameter lists for tuning\n",
    "\n",
    "# Number of trees in random forest\n",
    "n_estimators = [int(x) for x in np.linspace(start = 10, stop = 200, num = 10)]\n",
    "# Number of features to consider at every split\n",
    "max_features = ['log2', 'sqrt', None]\n",
    "# Maximum number of levels in tree\n",
    "max_depth = [5,8,11,14]\n",
    "# Minimum number of samples required to split a node\n",
    "min_samples_split = [2,3,4,5]\n",
    "# Minimum number of samples required at each leaf node\n",
    "min_samples_leaf = [1, 2]\n",
    "# Method of selecting samples for training each tree\n",
    "bootstrap = [False]\n",
    "\n",
    "param_grid = {'n_estimators': n_estimators,\n",
    "               'max_features': max_features,\n",
    "               'max_depth': max_depth,\n",
    "               'min_samples_split': min_samples_split,\n",
    "               'min_samples_leaf': min_samples_leaf,\n",
    "               'bootstrap': bootstrap}\n",
    "print(param_grid)"
   ]
  },
  {
   "cell_type": "code",
   "execution_count": 78,
   "metadata": {},
   "outputs": [
    {
     "name": "stdout",
     "output_type": "stream",
     "text": [
      "Fitting 3 folds for each of 960 candidates, totalling 2880 fits\n"
     ]
    },
    {
     "data": {
      "text/plain": [
       "{'bootstrap': False,\n",
       " 'max_depth': 14,\n",
       " 'max_features': 'sqrt',\n",
       " 'min_samples_leaf': 1,\n",
       " 'min_samples_split': 2,\n",
       " 'n_estimators': 157}"
      ]
     },
     "execution_count": 78,
     "metadata": {},
     "output_type": "execute_result"
    }
   ],
   "source": [
    "#Gyper \n",
    "rfc_Model = RandomForestClassifier()\n",
    "rfc_Grid = GridSearchCV(estimator = rfc_Model, param_grid = param_grid, cv = 3, verbose=2, n_jobs = 4)\n",
    "rfc_Grid.fit(feature_train , result_train )\n",
    "rfc_Grid.best_params_\n"
   ]
  },
  {
   "cell_type": "code",
   "execution_count": 79,
   "metadata": {},
   "outputs": [
    {
     "data": {
      "text/plain": [
       "0.986779745572462"
      ]
     },
     "execution_count": 79,
     "metadata": {},
     "output_type": "execute_result"
    }
   ],
   "source": [
    "rfc_Grid.score(feature_train,result_train)"
   ]
  },
  {
   "cell_type": "code",
   "execution_count": 80,
   "metadata": {},
   "outputs": [
    {
     "data": {
      "text/plain": [
       "0.9785536159600997"
      ]
     },
     "execution_count": 80,
     "metadata": {},
     "output_type": "execute_result"
    }
   ],
   "source": [
    "rfc_Grid.score(feature_test,result_test)"
   ]
  },
  {
   "cell_type": "code",
   "execution_count": 81,
   "metadata": {},
   "outputs": [],
   "source": [
    "\n",
    "\n",
    "classifier= RandomForestClassifier(bootstrap= rfc_Grid.best_params_[\"bootstrap\"],\n",
    " max_depth= rfc_Grid.best_params_[\"max_depth\"],\n",
    " max_features= rfc_Grid.best_params_[\"max_features\"],\n",
    " min_samples_leaf= rfc_Grid.best_params_[\"min_samples_leaf\"],\n",
    " min_samples_split= rfc_Grid.best_params_[\"min_samples_split\"],\n",
    " n_estimators= rfc_Grid.best_params_[\"n_estimators\"])  \n",
    "pdf_checker_RT = classifier.fit(feature_train,result_train)  \n"
   ]
  },
  {
   "cell_type": "code",
   "execution_count": 82,
   "metadata": {},
   "outputs": [],
   "source": [
    "with open(\"Models/pdf_checker_RT\",'wb') as f:\n",
    "    pickle.dump(pdf_checker_RT,f)"
   ]
  },
  {
   "cell_type": "code",
   "execution_count": 83,
   "metadata": {},
   "outputs": [
    {
     "name": "stdout",
     "output_type": "stream",
     "text": [
      "['  /URI (https://www.antennahouse.com/)\\r', '  /URI (https://www.antennahouse.com/)\\r', '  /URI (https://www.antennahouse.com/)\\r', '  /URI (https://www.antennahouse.com/)\\r', '']\n",
      "5\n",
      "{'obj': [45], 'endobj': [45], 'stream': [22], 'endstream': [22], 'xref': [0], 'trailer': [0], 'startxref': [1], 'Page': [2], 'Encrypt': [0], 'ObjStm': [6], 'JS': [0], 'JavaScript': [0], 'AA': [0], 'OpenAction': [0], 'AcroForm': [0], 'JBIG2Decode': [0], 'RichMedia': [0], 'Launch': [0], 'EmbeddedFile': [0], 'XFA': [0], 'Colors > 2^24': [0]}\n"
     ]
    },
    {
     "name": "stderr",
     "output_type": "stream",
     "text": [
      "C:\\Users\\91743\\AppData\\Local\\Temp\\ipykernel_223516\\581747676.py:32: SettingWithCopyWarning: \n",
      "A value is trying to be set on a copy of a slice from a DataFrame\n",
      "\n",
      "See the caveats in the documentation: https://pandas.pydata.org/pandas-docs/stable/user_guide/indexing.html#returning-a-view-versus-a-copy\n",
      "  df_input.rename(columns = {'Encrypt':'encrypt','JavaScript':'Javascript','AcroForm':'Acroform','Launch':'launch'}, inplace = True)\n",
      "C:\\Users\\91743\\AppData\\Local\\Temp\\ipykernel_223516\\581747676.py:43: SettingWithCopyWarning: \n",
      "A value is trying to be set on a copy of a slice from a DataFrame.\n",
      "Try using .loc[row_indexer,col_indexer] = value instead\n",
      "\n",
      "See the caveats in the documentation: https://pandas.pydata.org/pandas-docs/stable/user_guide/indexing.html#returning-a-view-versus-a-copy\n",
      "  df_input[test_feature_name] = model.transform( [str(df_input[feature_name][0])] )\n",
      "C:\\Users\\91743\\AppData\\Local\\Temp\\ipykernel_223516\\581747676.py:43: SettingWithCopyWarning: \n",
      "A value is trying to be set on a copy of a slice from a DataFrame.\n",
      "Try using .loc[row_indexer,col_indexer] = value instead\n",
      "\n",
      "See the caveats in the documentation: https://pandas.pydata.org/pandas-docs/stable/user_guide/indexing.html#returning-a-view-versus-a-copy\n",
      "  df_input[test_feature_name] = model.transform( [str(df_input[feature_name][0])] )\n",
      "C:\\Users\\91743\\AppData\\Local\\Temp\\ipykernel_223516\\581747676.py:43: SettingWithCopyWarning: \n",
      "A value is trying to be set on a copy of a slice from a DataFrame.\n",
      "Try using .loc[row_indexer,col_indexer] = value instead\n",
      "\n",
      "See the caveats in the documentation: https://pandas.pydata.org/pandas-docs/stable/user_guide/indexing.html#returning-a-view-versus-a-copy\n",
      "  df_input[test_feature_name] = model.transform( [str(df_input[feature_name][0])] )\n",
      "C:\\Users\\91743\\AppData\\Local\\Temp\\ipykernel_223516\\581747676.py:43: SettingWithCopyWarning: \n",
      "A value is trying to be set on a copy of a slice from a DataFrame.\n",
      "Try using .loc[row_indexer,col_indexer] = value instead\n",
      "\n",
      "See the caveats in the documentation: https://pandas.pydata.org/pandas-docs/stable/user_guide/indexing.html#returning-a-view-versus-a-copy\n",
      "  df_input[test_feature_name] = model.transform( [str(df_input[feature_name][0])] )\n",
      "C:\\Users\\91743\\AppData\\Local\\Temp\\ipykernel_223516\\581747676.py:43: SettingWithCopyWarning: \n",
      "A value is trying to be set on a copy of a slice from a DataFrame.\n",
      "Try using .loc[row_indexer,col_indexer] = value instead\n",
      "\n",
      "See the caveats in the documentation: https://pandas.pydata.org/pandas-docs/stable/user_guide/indexing.html#returning-a-view-versus-a-copy\n",
      "  df_input[test_feature_name] = model.transform( [str(df_input[feature_name][0])] )\n"
     ]
    }
   ],
   "source": [
    "\n",
    "\n",
    "pdf_file = \"basic-link-1.pdf\"\n",
    "result = pdfid.PDFiD(pdf_file)\n",
    "data_dict = pdfid.PDFiD2JSON(result,True)\n",
    "json_dict = json.loads(data_dict)\n",
    "\n",
    "command = f'python ./pdf_parser_V0_7_8/pdf_parser.py -k /URI -O ./{pdf_file}'\n",
    "\n",
    "p = subprocess.check_output(command, stderr=subprocess.PIPE, shell=True)\n",
    "\n",
    "uri_list = p.decode().split(\"\\n\")\n",
    "print(uri_list)\n",
    "if(uri_list[0] == ''):\n",
    "    uri_number = 0\n",
    "else:\n",
    "    uri_number = len(uri_list)\n",
    "print(uri_number)   \n",
    "\n",
    "\n",
    "\n",
    "\n",
    "data_list = json_dict[0][\"pdfid\"][\"keywords\"][\"keyword\"]\n",
    "data_dict_master = {}\n",
    "for data in data_list:\n",
    "    data_dict = {data[\"name\"].replace(\"/\",\"\"):[data[\"count\"]]}\n",
    "    data_dict_master = data_dict_master | data_dict\n",
    "print(data_dict_master)\n",
    "\n",
    "df = pd.DataFrame.from_dict(data_dict_master)\n",
    "\n",
    "df_input = df[[\"Encrypt\",\"stream\",\"obj\",\"ObjStm\",\"startxref\",\"JBIG2Decode\",\"AcroForm\",\"JavaScript\",\"JS\",\"OpenAction\",\"RichMedia\",\"Launch\",\"EmbeddedFile\",\"XFA\",\"AA\"]]\n",
    "\n",
    "df_input.rename(columns = {'Encrypt':'encrypt','JavaScript':'Javascript','AcroForm':'Acroform','Launch':'launch'}, inplace = True)\n",
    "\n",
    "feature_list = [\"xref\",\"obj\",\"startxref\",\"JBIG2Decode\",\"Acroform\",\"Javascript\",\"JS\",\"OpenAction\",\"RichMedia\",\"launch\",\"EmbeddedFile\",\"XFA\",\"AA\"]\n",
    "\n",
    "\n",
    "for feature_name in feature_list:\n",
    "    test_feature_name = feature_name + \"_coded\"\n",
    "   \n",
    "    with open(\"Models/\" + test_feature_name,'rb') as f:\n",
    "        model = pickle.load(f)\n",
    "    try:\n",
    "        df_input[test_feature_name] = model.transform( [str(df_input[feature_name][0])] )\n",
    "    except Exception as e:\n",
    "        list(model.classes_)\n",
    "        #print(e)\n",
    "        continue\n",
    "\n",
    "df_input_predict = df_input[['encrypt','stream','obj_coded','ObjStm','startxref_coded','JBIG2Decode_coded','Acroform_coded','Javascript_coded', 'JS_coded','OpenAction_coded','RichMedia_coded','launch_coded','EmbeddedFile_coded','XFA_coded','AA_coded']]"
   ]
  },
  {
   "cell_type": "code",
   "execution_count": 84,
   "metadata": {},
   "outputs": [
    {
     "name": "stdout",
     "output_type": "stream",
     "text": [
      "[0]\n"
     ]
    }
   ],
   "source": [
    "with open(\"Models/pdf_checker_RT\",'rb') as f:\n",
    "    model = pickle.load(f)\n",
    "result = model.predict(df_input_predict)\n",
    "print(result)"
   ]
  }
 ],
 "metadata": {
  "kernelspec": {
   "display_name": "Python 3",
   "language": "python",
   "name": "python3"
  },
  "language_info": {
   "codemirror_mode": {
    "name": "ipython",
    "version": 3
   },
   "file_extension": ".py",
   "mimetype": "text/x-python",
   "name": "python",
   "nbconvert_exporter": "python",
   "pygments_lexer": "ipython3",
   "version": "3.10.11"
  }
 },
 "nbformat": 4,
 "nbformat_minor": 2
}
